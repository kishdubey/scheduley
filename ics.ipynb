{
 "cells": [
  {
   "cell_type": "code",
   "execution_count": 662,
   "metadata": {},
   "outputs": [],
   "source": [
    "\"\"\"\n",
    "extracting course data from an image of courses timetable\n",
    "\"\"\"\n",
    "\n",
    "import cv2\n",
    "import pytesseract\n",
    "\n",
    "class Course:\n",
    "    def __init__(self, title, type, start_time, end_time, location, day):\n",
    "        self.title = title\n",
    "        self.type = type\n",
    "        self.start_time = start_time\n",
    "        self.end_time = end_time\n",
    "        self.location = location\n",
    "        self.day = day\n",
    "\n",
    "    def __repr__(self):\n",
    "        return f\"\"\"\n",
    "                Title: {self.title}\n",
    "                Type: {self.type}\n",
    "                Time: {self.start_time} - {self.end_time}\n",
    "                Location: {self.location}\n",
    "                Day: {self.day}\\n\"\"\"\n",
    "\n",
    "def get_image(path):\n",
    "    \"\"\"\n",
    "    (string) -> numpy.ndarray\n",
    "    returns image for given path\n",
    "    \"\"\"\n",
    "    return cv2.imread(path)\n",
    "\n",
    "def extract_information(image):\n",
    "    \"\"\"\n",
    "    (numpy.ndarray) -> list\n",
    "    returns list of text extracted from given image\n",
    "    \"\"\"\n",
    "    extracted_info = pytesseract.image_to_string(image).strip().replace(\"\\n\\n\", \"\\n\")\n",
    "    extracted_info_list = list(extracted_info.split(\"\\n\"))\n",
    "\n",
    "    for item in extracted_info_list:\n",
    "        if item == \" \":\n",
    "            extracted_info_list.remove(item)\n",
    "\n",
    "    return extracted_info_list\n",
    "\n",
    "def helper_capitalize(text):\n",
    "    \"\"\"\n",
    "    (string) -> string\n",
    "    proprely capitalize course titles\n",
    "    \"\"\"\n",
    "    capitalized = ''\n",
    "    for char in text:\n",
    "        if char.isalpha():\n",
    "            capitalized += char.upper()\n",
    "        else:\n",
    "            capitalized += char\n",
    "\n",
    "    return capitalized\n",
    "\n",
    "def get_classes(info_list):\n",
    "    \"\"\"\n",
    "    (list) -> list\n",
    "    returns list of classes of type Class from given list of raw extracted text\n",
    "    \"\"\"\n",
    "    WEEKDAYS = set([\"monday\", \"tuesday\", \"wednesday\", \"thursday\", \"friday\"])\n",
    "    classes = []\n",
    "    day = 'Monday'\n",
    "    i = 0\n",
    "\n",
    "    while i < len(info_list):\n",
    "        current = info_list[i]\n",
    "        if current.lower() in WEEKDAYS:\n",
    "            day = current\n",
    "\n",
    "            class_title = info_list[i+2].strip()\n",
    "            class_type = info_list[i+3]\n",
    "            time = info_list[i+4]\n",
    "            class_start_time = time[:6]\n",
    "            class_end_time = time[8:]\n",
    "            class_location = info_list[i+5].replace(\"Location: \", \"\")\n",
    "\n",
    "            this_class = Course(helper_capitalize(class_title), class_type, class_start_time, class_end_time, class_location, day)\n",
    "            classes.append(this_class)\n",
    "            i += 6\n",
    "\n",
    "        else:\n",
    "            class_title = info_list[i].strip()\n",
    "            class_type = info_list[i+1]\n",
    "            time = info_list[i+2]\n",
    "            class_start_time = time[:6]\n",
    "            class_end_time = time[8:]\n",
    "            class_location = info_list[i+3].replace(\"Location: \", \"\")\n",
    "\n",
    "            this_class = Course(helper_capitalize(class_title), class_type, class_start_time, class_end_time, class_location, day)\n",
    "            classes.append(this_class)\n",
    "            i += 4\n",
    "\n",
    "    return classes\n",
    "\n",
    "def get_schedule(path):\n",
    "    img = get_image(path)\n",
    "    info_list = extract_information(img)\n",
    "    classes = get_classes(info_list)\n",
    "\n",
    "    return classes"
   ]
  },
  {
   "cell_type": "code",
   "execution_count": 744,
   "metadata": {},
   "outputs": [],
   "source": [
    "from icalendar import Calendar, Event\n",
    "import datetime\n",
    "from extract_course_data import get_schedule\n",
    "\n",
    "PATH = 'data/schedule1.png'\n",
    "\n",
    "ACADEMIC_TERMS = {\"summer\": \"01/05 - 31/08\", \"fall\": \"01/09 - 31/12\", \"winter\": \"01/01 - 30/04\"}\n",
    "WEEKDAYS = {\"monday\": 0, \"tuesday\": 1, \"wednesday\": 2, \"thursday\": 3, \"friday\": 4}"
   ]
  },
  {
   "cell_type": "code",
   "execution_count": 745,
   "metadata": {},
   "outputs": [],
   "source": [
    "def get_academic_term(academic_term):\n",
    "    \"\"\"\n",
    "    (string) -> tuple\n",
    "    returns the start and end dates of the given academic term\n",
    "    \"\"\"\n",
    "    term = ACADEMIC_TERMS[academic_term]\n",
    "    start = term[0:5]\n",
    "    end = term[8:]\n",
    "\n",
    "    return start, end"
   ]
  },
  {
   "cell_type": "code",
   "execution_count": 746,
   "metadata": {},
   "outputs": [],
   "source": [
    "def next_weekday(d, weekday):\n",
    "    days_ahead = weekday - d.weekday()\n",
    "    if days_ahead <= 0: # Target day already happened this week\n",
    "        days_ahead += 7\n",
    "    return d + datetime.timedelta(days_ahead)"
   ]
  },
  {
   "cell_type": "code",
   "execution_count": 747,
   "metadata": {},
   "outputs": [],
   "source": [
    "# self.title = title\n",
    "# self.type = type\n",
    "# self.start_time = start_time\n",
    "# self.end_time = end_time\n",
    "# self.location = location\n",
    "# self.day = day\n",
    "academic_term = 'Summer'\n",
    "year = 2019\n",
    "classes = []"
   ]
  },
  {
   "cell_type": "code",
   "execution_count": 748,
   "metadata": {},
   "outputs": [],
   "source": [
    "classes = get_schedule(PATH)"
   ]
  },
  {
   "cell_type": "code",
   "execution_count": 749,
   "metadata": {},
   "outputs": [
    {
     "name": "stdout",
     "output_type": "stream",
     "text": [
      "[\n",
      "                Title: ELG 2136 - AOO\n",
      "                Type: Lecture\n",
      "                Time: 11:30  - 12:50\n",
      "                Location: N/A\n",
      "                Day: Monday\n",
      ", \n",
      "                Title: ELG 2911 - DOZ\n",
      "                Type: Tutorial\n",
      "                Time: 13:00  - 14:20\n",
      "                Location: N/A\n",
      "                Day: Monday\n",
      ", \n",
      "                Title: ELG 2136 -A03\n",
      "                Type: Tutorial\n",
      "                Time: 14:30  - 15:50\n",
      "                Location: N/A\n",
      "                Day: Monday\n",
      ", \n",
      "                Title: MAT 2377 - ADO\n",
      "                Type: Lecture\n",
      "                Time: 10:00  - 11:20\n",
      "                Location: N/A\n",
      "                Day: Tuesday\n",
      ", \n",
      "                Title: PHY 2323 - ADO\n",
      "                Type: Lecture\n",
      "                Time: 11:30  - 12:50\n",
      "                Location: N/A\n",
      "                Day: Tuesday\n",
      ", \n",
      "                Title: SEG 2106 - A00\n",
      "                Type: Lecture\n",
      "                Time: 13:00  - 14:20\n",
      "                Location: N/A\n",
      "                Day: Tuesday\n",
      ", \n",
      "                Title: ENG 1112-K03\n",
      "                Type: Discussion Group\n",
      "                Time: 16:00  - 17:20\n",
      "                Location: N/A\n",
      "                Day: Tuesday\n",
      ", \n",
      "                Title: PHY 2323 - AO1\n",
      "                Type: Discussion Group\n",
      "                Time: 19:00  - 20:20\n",
      "                Location: N/A\n",
      "                Day: Tuesday\n",
      ", \n",
      "                Title: SEG 2106 -A02\n",
      "                Type: Laboratory\n",
      "                Time: 11:30  - 14:20\n",
      "                Location: N/A\n",
      "                Day: Wednesday\n",
      ", \n",
      "                Title: MAT 2377 - AO0\n",
      "                Type: Lecture\n",
      "                Time: 08:30  - 09:50\n",
      "                Location: N/A.\n",
      "                Day: Thursday\n",
      ", \n",
      "                Title: ‘SEG 2106 - A00\n",
      "                Type: Lecture\n",
      "                Time: 11:30  - 12:50\n",
      "                Location: N/A.\n",
      "                Day: Thursday\n",
      ", \n",
      "                Title: ELG 2136 -A00\n",
      "                Type: Lecture\n",
      "                Time: 13:00  - 14:20\n",
      "                Location: N/A.\n",
      "                Day: Thursday\n",
      ", \n",
      "                Title: ENG 1112- KOO\n",
      "                Type: Lecture\n",
      "                Time: 14:30  - 15:50\n",
      "                Location: N/A.\n",
      "                Day: Thursday\n",
      ", \n",
      "                Title: ELG 2911 - D00\n",
      "                Type: Lecture\n",
      "                Time: 19:00  - 21:50\n",
      "                Location: N/A.\n",
      "                Day: Thursday\n",
      ", \n",
      "                Title: PHY 2323 - AO\n",
      "                Type: Lecture\n",
      "                Time: 13:00  - 14:20\n",
      "                Location: N/A.\n",
      "                Day: Friday\n",
      ", \n",
      "                Title: ELG 2136 -A02\n",
      "                Type: Laboratory\n",
      "                Time: 17:30  - 20:20\n",
      "                Location: N/A.\n",
      "                Day: Friday\n",
      "]\n"
     ]
    }
   ],
   "source": [
    "print(classes)"
   ]
  },
  {
   "cell_type": "code",
   "execution_count": 750,
   "metadata": {},
   "outputs": [],
   "source": [
    "cal = Calendar()\n",
    "academic_term = academic_term.lower()"
   ]
  },
  {
   "cell_type": "code",
   "execution_count": 751,
   "metadata": {},
   "outputs": [
    {
     "data": {
      "text/plain": [
       "\n",
       "                Title: ELG 2136 - AOO\n",
       "                Type: Lecture\n",
       "                Time: 11:30  - 12:50\n",
       "                Location: N/A\n",
       "                Day: Monday"
      ]
     },
     "execution_count": 751,
     "metadata": {},
     "output_type": "execute_result"
    }
   ],
   "source": [
    "course = classes[0]\n",
    "course"
   ]
  },
  {
   "cell_type": "code",
   "execution_count": null,
   "metadata": {},
   "outputs": [],
   "source": []
  },
  {
   "cell_type": "code",
   "execution_count": 752,
   "metadata": {},
   "outputs": [
    {
     "name": "stdout",
     "output_type": "stream",
     "text": [
      "01/05 31/08\n"
     ]
    }
   ],
   "source": [
    "term_start, term_end = get_academic_term(academic_term)\n",
    "print(term_start, term_end)"
   ]
  },
  {
   "cell_type": "code",
   "execution_count": 753,
   "metadata": {},
   "outputs": [],
   "source": [
    "event = Event()"
   ]
  },
  {
   "cell_type": "code",
   "execution_count": 754,
   "metadata": {},
   "outputs": [
    {
     "data": {
      "text/plain": [
       "'ELG 2136 - AOO - Lecture'"
      ]
     },
     "execution_count": 754,
     "metadata": {},
     "output_type": "execute_result"
    }
   ],
   "source": [
    "f\"{course.title} - {course.type}\".strip().replace(\"  \", \" \")"
   ]
  },
  {
   "cell_type": "code",
   "execution_count": 755,
   "metadata": {},
   "outputs": [],
   "source": [
    "event.add('summary', f\"{course.title} - {course.type}\".strip().replace(\"  \", \" \"))"
   ]
  },
  {
   "cell_type": "code",
   "execution_count": null,
   "metadata": {},
   "outputs": [],
   "source": []
  },
  {
   "cell_type": "code",
   "execution_count": null,
   "metadata": {},
   "outputs": [],
   "source": []
  },
  {
   "cell_type": "code",
   "execution_count": 756,
   "metadata": {},
   "outputs": [
    {
     "name": "stdout",
     "output_type": "stream",
     "text": [
      "2019-05-01\n"
     ]
    }
   ],
   "source": [
    "term_start_date = datetime.date(year, int(term_start[3:]), int(term_start[0:2]))\n",
    "print(term_start_date)"
   ]
  },
  {
   "cell_type": "code",
   "execution_count": 757,
   "metadata": {},
   "outputs": [
    {
     "data": {
      "text/plain": [
       "datetime.date(2019, 5, 6)"
      ]
     },
     "execution_count": 757,
     "metadata": {},
     "output_type": "execute_result"
    }
   ],
   "source": [
    "first_start_date = next_weekday(term_start_date, WEEKDAYS[course.day.lower()])\n",
    "first_start_date"
   ]
  },
  {
   "cell_type": "code",
   "execution_count": 758,
   "metadata": {},
   "outputs": [
    {
     "data": {
      "text/plain": [
       "('11:30 ', '12:50')"
      ]
     },
     "execution_count": 758,
     "metadata": {},
     "output_type": "execute_result"
    }
   ],
   "source": [
    "course.start_time, course.end_time"
   ]
  },
  {
   "cell_type": "code",
   "execution_count": 759,
   "metadata": {},
   "outputs": [
    {
     "data": {
      "text/plain": [
       "datetime.date(2019, 5, 6)"
      ]
     },
     "execution_count": 759,
     "metadata": {},
     "output_type": "execute_result"
    }
   ],
   "source": [
    "first_start_date"
   ]
  },
  {
   "cell_type": "code",
   "execution_count": 760,
   "metadata": {},
   "outputs": [],
   "source": [
    "hour, minute = int(course.start_time[:2]), int(course.start_time[3:])"
   ]
  },
  {
   "cell_type": "code",
   "execution_count": 761,
   "metadata": {},
   "outputs": [],
   "source": [
    "from datetime import time\n",
    "start_time = time(hour, minute, 0)"
   ]
  },
  {
   "cell_type": "code",
   "execution_count": 762,
   "metadata": {},
   "outputs": [],
   "source": [
    "start_date = datetime.datetime.combine(first_start_date, start_time)"
   ]
  },
  {
   "cell_type": "code",
   "execution_count": 763,
   "metadata": {},
   "outputs": [
    {
     "data": {
      "text/plain": [
       "datetime.datetime(2019, 5, 6, 11, 30)"
      ]
     },
     "execution_count": 763,
     "metadata": {},
     "output_type": "execute_result"
    }
   ],
   "source": [
    "start_date"
   ]
  },
  {
   "cell_type": "code",
   "execution_count": 764,
   "metadata": {},
   "outputs": [
    {
     "data": {
      "text/plain": [
       "(12, 50)"
      ]
     },
     "execution_count": 764,
     "metadata": {},
     "output_type": "execute_result"
    }
   ],
   "source": [
    "hour, minute = int(course.end_time[:2]), int(course.end_time[3:])\n",
    "hour, minute"
   ]
  },
  {
   "cell_type": "code",
   "execution_count": 765,
   "metadata": {},
   "outputs": [],
   "source": [
    "end_time = time(hour, minute, 0)"
   ]
  },
  {
   "cell_type": "code",
   "execution_count": 766,
   "metadata": {},
   "outputs": [],
   "source": [
    "event.add('dtstart', start_date)"
   ]
  },
  {
   "cell_type": "code",
   "execution_count": 767,
   "metadata": {},
   "outputs": [],
   "source": [
    "end_date = datetime.datetime.combine(first_start_date, end_time)"
   ]
  },
  {
   "cell_type": "code",
   "execution_count": 768,
   "metadata": {},
   "outputs": [],
   "source": [
    "event.add('dtend', end_date)"
   ]
  },
  {
   "cell_type": "code",
   "execution_count": 769,
   "metadata": {},
   "outputs": [
    {
     "data": {
      "text/plain": [
       "(datetime.datetime(2019, 5, 6, 11, 30), datetime.datetime(2019, 5, 6, 12, 50))"
      ]
     },
     "execution_count": 769,
     "metadata": {},
     "output_type": "execute_result"
    }
   ],
   "source": [
    "start_date, end_date"
   ]
  },
  {
   "cell_type": "code",
   "execution_count": 770,
   "metadata": {},
   "outputs": [
    {
     "data": {
      "text/plain": [
       "'31/08'"
      ]
     },
     "execution_count": 770,
     "metadata": {},
     "output_type": "execute_result"
    }
   ],
   "source": [
    "term_end"
   ]
  },
  {
   "cell_type": "code",
   "execution_count": 771,
   "metadata": {},
   "outputs": [
    {
     "data": {
      "text/plain": [
       "datetime.date(2019, 8, 31)"
      ]
     },
     "execution_count": 771,
     "metadata": {},
     "output_type": "execute_result"
    }
   ],
   "source": [
    "last_date = datetime.date(year, int(term_end[3:]), int(term_end[0:2]))\n",
    "last_date"
   ]
  },
  {
   "cell_type": "code",
   "execution_count": 772,
   "metadata": {},
   "outputs": [
    {
     "ename": "IndentationError",
     "evalue": "unexpected indent (<ipython-input-772-3fc96c761f66>, line 2)",
     "output_type": "error",
     "traceback": [
      "\u001b[0;36m  File \u001b[0;32m\"<ipython-input-772-3fc96c761f66>\"\u001b[0;36m, line \u001b[0;32m2\u001b[0m\n\u001b[0;31m    tzs.add('rrule', {'freq': 'yearly', 'bymonth': 10, 'byday': 'MO'})\u001b[0m\n\u001b[0m    ^\u001b[0m\n\u001b[0;31mIndentationError\u001b[0m\u001b[0;31m:\u001b[0m unexpected indent\n"
     ]
    }
   ],
   "source": [
    "f\"FREQ=WEEKLY;BYDAY={course.day};INTERVAL=1;UNTIL={last_date.isoformat()}\"\n",
    " tzs.add('rrule', {'freq': 'yearly', 'bymonth': 10, 'byday': 'MO'})\n",
    " # event.add('rrule', u'FREQ=YEARLY;INTERVAL=1;COUNT=10'\n",
    "\n"
   ]
  },
  {
   "cell_type": "code",
   "execution_count": 773,
   "metadata": {},
   "outputs": [
    {
     "data": {
      "text/plain": [
       "'08'"
      ]
     },
     "execution_count": 773,
     "metadata": {},
     "output_type": "execute_result"
    }
   ],
   "source": [
    "term_end[3:]"
   ]
  },
  {
   "cell_type": "code",
   "execution_count": 774,
   "metadata": {},
   "outputs": [
    {
     "data": {
      "text/plain": [
       "datetime.date(2019, 8, 31)"
      ]
     },
     "execution_count": 774,
     "metadata": {},
     "output_type": "execute_result"
    }
   ],
   "source": [
    "last_date"
   ]
  },
  {
   "cell_type": "code",
   "execution_count": 775,
   "metadata": {},
   "outputs": [
    {
     "data": {
      "text/plain": [
       "datetime.date(2021, 8, 31)"
      ]
     },
     "execution_count": 775,
     "metadata": {},
     "output_type": "execute_result"
    }
   ],
   "source": [
    "term_end_date"
   ]
  },
  {
   "cell_type": "code",
   "execution_count": 776,
   "metadata": {},
   "outputs": [
    {
     "data": {
      "text/plain": [
       "datetime.datetime"
      ]
     },
     "execution_count": 776,
     "metadata": {},
     "output_type": "execute_result"
    }
   ],
   "source": [
    "course_end = datetime.datetime.combine(last_date, end_time)\n",
    "type(course_end)"
   ]
  },
  {
   "cell_type": "code",
   "execution_count": 777,
   "metadata": {},
   "outputs": [],
   "source": [
    "event.add('rrule', {'freq': 'weekly', 'interval': 1, 'byday': f'{course.day[:2]}', 'until': course_end})"
   ]
  },
  {
   "cell_type": "code",
   "execution_count": 778,
   "metadata": {},
   "outputs": [
    {
     "data": {
      "text/plain": [
       "VEVENT({'SUMMARY': vText('b'ELG 2136 - AOO - Lecture''), 'DTSTART': <icalendar.prop.vDDDTypes object at 0x12709f950>, 'DTEND': <icalendar.prop.vDDDTypes object at 0x12709c850>, 'RRULE': vRecur({'FREQ': 'weekly', 'INTERVAL': 1, 'BYDAY': 'Mo', 'UNTIL': datetime.datetime(2019, 8, 31, 12, 50)})})"
      ]
     },
     "execution_count": 778,
     "metadata": {},
     "output_type": "execute_result"
    }
   ],
   "source": [
    "event"
   ]
  },
  {
   "cell_type": "code",
   "execution_count": 779,
   "metadata": {},
   "outputs": [],
   "source": [
    "from icalendar import vCalAddress, vText"
   ]
  },
  {
   "cell_type": "code",
   "execution_count": 780,
   "metadata": {},
   "outputs": [],
   "source": [
    "event['location'] = vText(course.location)"
   ]
  },
  {
   "cell_type": "code",
   "execution_count": 781,
   "metadata": {},
   "outputs": [],
   "source": [
    "cal.add_component(event)"
   ]
  },
  {
   "cell_type": "code",
   "execution_count": 782,
   "metadata": {},
   "outputs": [],
   "source": [
    "with open(f'ex.ics', 'wb') as ics:\n",
    "        ics.write(cal.to_ical()) "
   ]
  },
  {
   "cell_type": "code",
   "execution_count": null,
   "metadata": {},
   "outputs": [],
   "source": []
  },
  {
   "cell_type": "code",
   "execution_count": null,
   "metadata": {},
   "outputs": [],
   "source": []
  },
  {
   "cell_type": "code",
   "execution_count": null,
   "metadata": {},
   "outputs": [],
   "source": []
  },
  {
   "cell_type": "code",
   "execution_count": null,
   "metadata": {},
   "outputs": [],
   "source": []
  },
  {
   "cell_type": "code",
   "execution_count": null,
   "metadata": {},
   "outputs": [],
   "source": []
  }
 ],
 "metadata": {
  "kernelspec": {
   "display_name": "Python 3",
   "language": "python",
   "name": "python3"
  },
  "language_info": {
   "codemirror_mode": {
    "name": "ipython",
    "version": 3
   },
   "file_extension": ".py",
   "mimetype": "text/x-python",
   "name": "python",
   "nbconvert_exporter": "python",
   "pygments_lexer": "ipython3",
   "version": "3.7.6"
  }
 },
 "nbformat": 4,
 "nbformat_minor": 4
}
